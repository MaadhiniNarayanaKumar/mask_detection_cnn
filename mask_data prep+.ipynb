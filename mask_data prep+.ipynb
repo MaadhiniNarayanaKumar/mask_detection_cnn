{
 "cells": [
  {
   "cell_type": "markdown",
   "id": "6ec86ea7",
   "metadata": {},
   "source": [
    "mask detection\n",
    "\n",
    "1)dataset creation & preprocessing\n",
    "2)train model\n",
    "3)detect mask"
   ]
  },
  {
   "cell_type": "code",
   "execution_count": 1,
   "id": "43752a32",
   "metadata": {},
   "outputs": [],
   "source": [
    "#import libraries\n",
    "import cv2\n",
    "import os"
   ]
  },
  {
   "cell_type": "code",
   "execution_count": 3,
   "id": "c35298a0",
   "metadata": {},
   "outputs": [
    {
     "name": "stdout",
     "output_type": "stream",
     "text": [
      "['without_mask', 'with_mask']\n",
      "[0, 1]\n",
      "{'without_mask': 0, 'with_mask': 1}\n"
     ]
    }
   ],
   "source": [
    "#import datasets\n",
    "data_path=\"D:/detection/face-mask-dataset/Dataset/train\"\n",
    "cat=os.listdir(data_path)\n",
    "labels=[    i    for i in range(len(cat))       ]\n",
    "lab_dict=dict(zip(cat,labels))\n",
    "print(cat)\n",
    "print(labels)\n",
    "print(lab_dict)"
   ]
  },
  {
   "cell_type": "code",
   "execution_count": 4,
   "id": "ef4915e4",
   "metadata": {},
   "outputs": [],
   "source": [
    "#declare imgsize,datalist,targetlist\n",
    "img_size=100\n",
    "data=[]#images\n",
    "target=[]#labels only"
   ]
  },
  {
   "cell_type": "code",
   "execution_count": 5,
   "id": "d41f23aa",
   "metadata": {
    "scrolled": false
   },
   "outputs": [],
   "source": [
    "#resize\n",
    "for category in cat:\n",
    "    folder_path=os.path.join(data_path,category)\n",
    "    img_names=os.listdir(folder_path)\n",
    "        \n",
    "    for img_name in img_names:\n",
    "        img_path=os.path.join(folder_path,img_name)\n",
    "        img=cv2.imread(img_path)\n",
    "        \n",
    "        gray=cv2.cvtColor(img,cv2.COLOR_BGR2GRAY)  \n",
    "        resized=cv2.resize(gray,(img_size,img_size))\n",
    "        data.append(resized)\n",
    "        target.append(lab_dict[category])"
   ]
  },
  {
   "cell_type": "code",
   "execution_count": 6,
   "id": "e173ac88",
   "metadata": {
    "scrolled": true
   },
   "outputs": [],
   "source": [
    "#conv to array\n",
    "import numpy as np\n",
    "data=np.array(data)/255.0\n",
    "data=np.reshape(data,(data.shape[0],img_size,img_size,1))\n",
    "target=np.array(target)"
   ]
  },
  {
   "cell_type": "code",
   "execution_count": 7,
   "id": "00be67b4",
   "metadata": {},
   "outputs": [],
   "source": [
    "#convert target to categorical \n",
    "from keras.utils import np_utils\n",
    "new_target=np_utils.to_categorical(target)"
   ]
  },
  {
   "cell_type": "code",
   "execution_count": 8,
   "id": "0d74544b",
   "metadata": {},
   "outputs": [],
   "source": [
    "#save\n",
    "np.save('data',data)\n",
    "np.save('new_target',new_target)"
   ]
  }
 ],
 "metadata": {
  "kernelspec": {
   "display_name": "Python 3 (ipykernel)",
   "language": "python",
   "name": "python3"
  },
  "language_info": {
   "codemirror_mode": {
    "name": "ipython",
    "version": 3
   },
   "file_extension": ".py",
   "mimetype": "text/x-python",
   "name": "python",
   "nbconvert_exporter": "python",
   "pygments_lexer": "ipython3",
   "version": "3.9.7"
  }
 },
 "nbformat": 4,
 "nbformat_minor": 5
}
